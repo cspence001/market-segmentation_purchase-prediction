{
 "cells": [
  {
   "cell_type": "code",
   "execution_count": 1,
   "metadata": {},
   "outputs": [],
   "source": [
    "import pandas as pd\n",
    "import numpy as np\n",
    "from matplotlib import pyplot as plt\n",
    "\n",
    "import sklearn.model_selection as model_selection\n",
    "import sklearn.preprocessing as preprocessing\n",
    "import seaborn as sns\n",
    "import sklearn.linear_model as linear_model\n",
    "from sklearn.metrics import accuracy_score\n",
    "from sklearn.metrics import classification_report\n",
    "from sklearn.preprocessing import OneHotEncoder\n",
    "from sklearn.ensemble import RandomForestRegressor, GradientBoostingRegressor"
   ]
  },
  {
   "cell_type": "code",
   "execution_count": 2,
   "metadata": {},
   "outputs": [
    {
     "data": {
      "text/html": [
       "<div>\n",
       "<style scoped>\n",
       "    .dataframe tbody tr th:only-of-type {\n",
       "        vertical-align: middle;\n",
       "    }\n",
       "\n",
       "    .dataframe tbody tr th {\n",
       "        vertical-align: top;\n",
       "    }\n",
       "\n",
       "    .dataframe thead th {\n",
       "        text-align: right;\n",
       "    }\n",
       "</style>\n",
       "<table border=\"1\" class=\"dataframe\">\n",
       "  <thead>\n",
       "    <tr style=\"text-align: right;\">\n",
       "      <th></th>\n",
       "      <th>Gender</th>\n",
       "      <th>Age</th>\n",
       "      <th>EstimatedSalary</th>\n",
       "      <th>Purchased</th>\n",
       "    </tr>\n",
       "  </thead>\n",
       "  <tbody>\n",
       "    <tr>\n",
       "      <th>0</th>\n",
       "      <td>Male</td>\n",
       "      <td>19</td>\n",
       "      <td>19000</td>\n",
       "      <td>0</td>\n",
       "    </tr>\n",
       "    <tr>\n",
       "      <th>1</th>\n",
       "      <td>Male</td>\n",
       "      <td>35</td>\n",
       "      <td>20000</td>\n",
       "      <td>0</td>\n",
       "    </tr>\n",
       "    <tr>\n",
       "      <th>2</th>\n",
       "      <td>Female</td>\n",
       "      <td>26</td>\n",
       "      <td>43000</td>\n",
       "      <td>0</td>\n",
       "    </tr>\n",
       "    <tr>\n",
       "      <th>3</th>\n",
       "      <td>Female</td>\n",
       "      <td>27</td>\n",
       "      <td>57000</td>\n",
       "      <td>0</td>\n",
       "    </tr>\n",
       "    <tr>\n",
       "      <th>4</th>\n",
       "      <td>Male</td>\n",
       "      <td>19</td>\n",
       "      <td>76000</td>\n",
       "      <td>0</td>\n",
       "    </tr>\n",
       "    <tr>\n",
       "      <th>...</th>\n",
       "      <td>...</td>\n",
       "      <td>...</td>\n",
       "      <td>...</td>\n",
       "      <td>...</td>\n",
       "    </tr>\n",
       "    <tr>\n",
       "      <th>395</th>\n",
       "      <td>Female</td>\n",
       "      <td>46</td>\n",
       "      <td>41000</td>\n",
       "      <td>1</td>\n",
       "    </tr>\n",
       "    <tr>\n",
       "      <th>396</th>\n",
       "      <td>Male</td>\n",
       "      <td>51</td>\n",
       "      <td>23000</td>\n",
       "      <td>1</td>\n",
       "    </tr>\n",
       "    <tr>\n",
       "      <th>397</th>\n",
       "      <td>Female</td>\n",
       "      <td>50</td>\n",
       "      <td>20000</td>\n",
       "      <td>1</td>\n",
       "    </tr>\n",
       "    <tr>\n",
       "      <th>398</th>\n",
       "      <td>Male</td>\n",
       "      <td>36</td>\n",
       "      <td>33000</td>\n",
       "      <td>0</td>\n",
       "    </tr>\n",
       "    <tr>\n",
       "      <th>399</th>\n",
       "      <td>Female</td>\n",
       "      <td>49</td>\n",
       "      <td>36000</td>\n",
       "      <td>1</td>\n",
       "    </tr>\n",
       "  </tbody>\n",
       "</table>\n",
       "<p>400 rows × 4 columns</p>\n",
       "</div>"
      ],
      "text/plain": [
       "     Gender  Age  EstimatedSalary  Purchased\n",
       "0      Male   19            19000          0\n",
       "1      Male   35            20000          0\n",
       "2    Female   26            43000          0\n",
       "3    Female   27            57000          0\n",
       "4      Male   19            76000          0\n",
       "..      ...  ...              ...        ...\n",
       "395  Female   46            41000          1\n",
       "396    Male   51            23000          1\n",
       "397  Female   50            20000          1\n",
       "398    Male   36            33000          0\n",
       "399  Female   49            36000          1\n",
       "\n",
       "[400 rows x 4 columns]"
      ]
     },
     "execution_count": 2,
     "metadata": {},
     "output_type": "execute_result"
    }
   ],
   "source": [
    "ad_clicks_csv = pd.read_csv('../Resources/network_ad_demographics.csv')\n",
    "ad_clicks = ad_clicks_csv.drop('User ID', 1)\n",
    "ad_clicks"
   ]
  },
  {
   "cell_type": "code",
   "execution_count": 3,
   "metadata": {},
   "outputs": [
    {
     "name": "stdout",
     "output_type": "stream",
     "text": [
      "Gender\n",
      "Female    204\n",
      "Male      196\n",
      "Name: Gender, dtype: int64\n",
      "\n",
      "\n",
      "Age\n",
      "count    400.000000\n",
      "mean      37.655000\n",
      "std       10.482877\n",
      "min       18.000000\n",
      "25%       29.750000\n",
      "50%       37.000000\n",
      "75%       46.000000\n",
      "max       60.000000\n",
      "Name: Age, dtype: float64\n",
      "\n",
      "\n",
      "EstimatedSalary\n",
      "count       400.000000\n",
      "mean      69742.500000\n",
      "std       34096.960282\n",
      "min       15000.000000\n",
      "25%       43000.000000\n",
      "50%       70000.000000\n",
      "75%       88000.000000\n",
      "max      150000.000000\n",
      "Name: EstimatedSalary, dtype: float64\n",
      "\n",
      "\n",
      "Purchased\n",
      "count    400.000000\n",
      "mean       0.357500\n",
      "std        0.479864\n",
      "min        0.000000\n",
      "25%        0.000000\n",
      "50%        0.000000\n",
      "75%        1.000000\n",
      "max        1.000000\n",
      "Name: Purchased, dtype: float64\n",
      "\n",
      "\n"
     ]
    }
   ],
   "source": [
    "def data_summary(df):\n",
    "    for column in df.columns:\n",
    "        print (column)\n",
    "        if df.dtypes[column] == np.object: # Categorical data\n",
    "            print (df[column].value_counts())\n",
    "        else:\n",
    "            print (df[column].describe())\n",
    "            \n",
    "        print ('\\n')\n",
    "    \n",
    "data_summary(ad_clicks)"
   ]
  },
  {
   "cell_type": "code",
   "execution_count": 4,
   "metadata": {},
   "outputs": [
    {
     "data": {
      "image/png": "[encoded data removed]",
      "text/plain": [
       "<Figure size 432x288 with 2 Axes>"
      ]
     },
     "metadata": {
      "needs_background": "light"
     },
     "output_type": "display_data"
    },
    {
     "data": {
      "text/html": [
       "<div>\n",
       "<style scoped>\n",
       "    .dataframe tbody tr th:only-of-type {\n",
       "        vertical-align: middle;\n",
       "    }\n",
       "\n",
       "    .dataframe tbody tr th {\n",
       "        vertical-align: top;\n",
       "    }\n",
       "\n",
       "    .dataframe thead th {\n",
       "        text-align: right;\n",
       "    }\n",
       "</style>\n",
       "<table border=\"1\" class=\"dataframe\">\n",
       "  <thead>\n",
       "    <tr style=\"text-align: right;\">\n",
       "      <th></th>\n",
       "      <th>Gender</th>\n",
       "      <th>Age</th>\n",
       "      <th>EstimatedSalary</th>\n",
       "      <th>Purchased</th>\n",
       "    </tr>\n",
       "  </thead>\n",
       "  <tbody>\n",
       "    <tr>\n",
       "      <th>395</th>\n",
       "      <td>0</td>\n",
       "      <td>46</td>\n",
       "      <td>41000</td>\n",
       "      <td>1</td>\n",
       "    </tr>\n",
       "    <tr>\n",
       "      <th>396</th>\n",
       "      <td>1</td>\n",
       "      <td>51</td>\n",
       "      <td>23000</td>\n",
       "      <td>1</td>\n",
       "    </tr>\n",
       "    <tr>\n",
       "      <th>397</th>\n",
       "      <td>0</td>\n",
       "      <td>50</td>\n",
       "      <td>20000</td>\n",
       "      <td>1</td>\n",
       "    </tr>\n",
       "    <tr>\n",
       "      <th>398</th>\n",
       "      <td>1</td>\n",
       "      <td>36</td>\n",
       "      <td>33000</td>\n",
       "      <td>0</td>\n",
       "    </tr>\n",
       "    <tr>\n",
       "      <th>399</th>\n",
       "      <td>0</td>\n",
       "      <td>49</td>\n",
       "      <td>36000</td>\n",
       "      <td>1</td>\n",
       "    </tr>\n",
       "  </tbody>\n",
       "</table>\n",
       "</div>"
      ],
      "text/plain": [
       "     Gender  Age  EstimatedSalary  Purchased\n",
       "395       0   46            41000          1\n",
       "396       1   51            23000          1\n",
       "397       0   50            20000          1\n",
       "398       1   36            33000          0\n",
       "399       0   49            36000          1"
      ]
     },
     "execution_count": 4,
     "metadata": {},
     "output_type": "execute_result"
    }
   ],
   "source": [
    "# Encode the categorical features as numbers\n",
    "def number_encode_features(df):\n",
    "    result = df.copy()\n",
    "    encoders = {}\n",
    "    for column in result.columns:\n",
    "        if result.dtypes[column] == np.object:\n",
    "            encoders[column] = preprocessing.LabelEncoder()\n",
    "            result[column] = encoders[column].fit_transform(result[column])\n",
    "    return result, encoders\n",
    "\n",
    "\n",
    "# Calculate the correlation and plot it\n",
    "encoded_data, _ = number_encode_features(ad_clicks)\n",
    "sns.heatmap(encoded_data.corr(), square=True)\n",
    "plt.show()\n",
    "\n",
    "encoded_data.tail(5)"
   ]
  },
  {
   "cell_type": "code",
   "execution_count": 16,
   "metadata": {},
   "outputs": [
    {
     "data": {
      "text/plain": [
       "0      0\n",
       "1      0\n",
       "2      0\n",
       "3      0\n",
       "4      0\n",
       "      ..\n",
       "395    1\n",
       "396    1\n",
       "397    1\n",
       "398    0\n",
       "399    1\n",
       "Name: Purchased, Length: 400, dtype: int64"
      ]
     },
     "execution_count": 16,
     "metadata": {},
     "output_type": "execute_result"
    }
   ],
   "source": [
    "encoded_data, encoders = number_encode_features(ad_clicks)\n",
    "new_series = encoded_data[\"Purchased\"]\n",
    "new_series #y-values "
   ]
  },
  {
   "cell_type": "markdown",
   "metadata": {},
   "source": [
    "LogReg (non-binary independents)"
   ]
  },
  {
   "cell_type": "code",
   "execution_count": 17,
   "metadata": {},
   "outputs": [],
   "source": [
    "# Split and scale the data\n",
    "X_train, X_test, y_train, y_test = model_selection.train_test_split(encoded_data[encoded_data.columns.drop(\"Purchased\")], new_series, train_size=0.70)\n",
    "scaler = preprocessing.StandardScaler()\n",
    "\n",
    "X_train = pd.DataFrame(scaler.fit_transform(X_train), columns=X_train.columns)\n",
    "X_test = scaler.transform(X_test)"
   ]
  },
  {
   "cell_type": "code",
   "execution_count": 21,
   "metadata": {},
   "outputs": [
    {
     "name": "stderr",
     "output_type": "stream",
     "text": [
      "/opt/anaconda3/lib/python3.8/site-packages/sklearn/base.py:445: UserWarning: X does not have valid feature names, but LogisticRegression was fitted with feature names\n",
      "  warnings.warn(\n"
     ]
    }
   ],
   "source": [
    "# logistic regression\n",
    "cls = linear_model.LogisticRegression()\n",
    "\n",
    "cls.fit(X_train, y_train)\n",
    "y_pred = cls.predict(X_test)"
   ]
  },
  {
   "cell_type": "code",
   "execution_count": 19,
   "metadata": {},
   "outputs": [
    {
     "name": "stdout",
     "output_type": "stream",
     "text": [
      "0.8333333333333334\n"
     ]
    }
   ],
   "source": [
    "print(accuracy_score(y_test, y_pred))"
   ]
  },
  {
   "cell_type": "markdown",
   "metadata": {},
   "source": [
    "Variable Coefficients"
   ]
  },
  {
   "cell_type": "code",
   "execution_count": 9,
   "metadata": {},
   "outputs": [
    {
     "name": "stdout",
     "output_type": "stream",
     "text": [
      "Index(['Gender', 'Age', 'EstimatedSalary'], dtype='object')\n"
     ]
    },
    {
     "data": {
      "image/png": "[encoded data removed]",
      "text/plain": [
       "<Figure size 432x288 with 1 Axes>"
      ]
     },
     "metadata": {},
     "output_type": "display_data"
    },
    {
     "name": "stdout",
     "output_type": "stream",
     "text": [
      "Age                2.594517\n",
      "EstimatedSalary    0.971577\n",
      "Gender             0.190378\n",
      "dtype: float64\n"
     ]
    }
   ],
   "source": [
    "coefs = pd.Series(cls.coef_[0], index=X_train.columns)\n",
    "print (X_train.columns)\n",
    "coefs = coefs.sort_values()\n",
    "sns.set(style='whitegrid')\n",
    "plt.subplot(1,1,1)\n",
    "coefs.plot(kind=\"bar\")\n",
    "plt.show()\n",
    "print (coefs.sort_values(ascending = False))"
   ]
  },
  {
   "cell_type": "markdown",
   "metadata": {},
   "source": [
    "Creating Age Groups"
   ]
  },
  {
   "cell_type": "code",
   "execution_count": 11,
   "metadata": {},
   "outputs": [],
   "source": [
    "age_conditions = [\n",
    "(ad_clicks.Age <= 25) & (ad_clicks.Age >= 18),\n",
    "(ad_clicks.Age <= 35) & (ad_clicks.Age >= 26),\n",
    "(ad_clicks.Age <= 45) & (ad_clicks.Age >= 36),\n",
    "(ad_clicks.Age <= 55) & (ad_clicks.Age >= 46),\n",
    "(ad_clicks.Age >= 56),\n",
    "]\n",
    "age_values = [\"18-25\",\"26-35\",\"36-45\",\"46-55\",\"55+\"]\n",
    "ad_clicks['Age Group'] = np.select(age_conditions, age_values)"
   ]
  },
  {
   "cell_type": "markdown",
   "metadata": {},
   "source": [
    "Creating Salary Groups"
   ]
  },
  {
   "cell_type": "code",
   "execution_count": 12,
   "metadata": {},
   "outputs": [
    {
     "data": {
      "text/html": [
       "<div>\n",
       "<style scoped>\n",
       "    .dataframe tbody tr th:only-of-type {\n",
       "        vertical-align: middle;\n",
       "    }\n",
       "\n",
       "    .dataframe tbody tr th {\n",
       "        vertical-align: top;\n",
       "    }\n",
       "\n",
       "    .dataframe thead th {\n",
       "        text-align: right;\n",
       "    }\n",
       "</style>\n",
       "<table border=\"1\" class=\"dataframe\">\n",
       "  <thead>\n",
       "    <tr style=\"text-align: right;\">\n",
       "      <th></th>\n",
       "      <th>Gender</th>\n",
       "      <th>Purchased</th>\n",
       "      <th>Age Group</th>\n",
       "      <th>Salary Group</th>\n",
       "    </tr>\n",
       "  </thead>\n",
       "  <tbody>\n",
       "    <tr>\n",
       "      <th>0</th>\n",
       "      <td>Male</td>\n",
       "      <td>0</td>\n",
       "      <td>18-25</td>\n",
       "      <td>15k-55k</td>\n",
       "    </tr>\n",
       "    <tr>\n",
       "      <th>1</th>\n",
       "      <td>Male</td>\n",
       "      <td>0</td>\n",
       "      <td>26-35</td>\n",
       "      <td>15k-55k</td>\n",
       "    </tr>\n",
       "    <tr>\n",
       "      <th>2</th>\n",
       "      <td>Female</td>\n",
       "      <td>0</td>\n",
       "      <td>26-35</td>\n",
       "      <td>15k-55k</td>\n",
       "    </tr>\n",
       "    <tr>\n",
       "      <th>3</th>\n",
       "      <td>Female</td>\n",
       "      <td>0</td>\n",
       "      <td>26-35</td>\n",
       "      <td>55k-100k</td>\n",
       "    </tr>\n",
       "    <tr>\n",
       "      <th>4</th>\n",
       "      <td>Male</td>\n",
       "      <td>0</td>\n",
       "      <td>18-25</td>\n",
       "      <td>55k-100k</td>\n",
       "    </tr>\n",
       "    <tr>\n",
       "      <th>...</th>\n",
       "      <td>...</td>\n",
       "      <td>...</td>\n",
       "      <td>...</td>\n",
       "      <td>...</td>\n",
       "    </tr>\n",
       "    <tr>\n",
       "      <th>395</th>\n",
       "      <td>Female</td>\n",
       "      <td>1</td>\n",
       "      <td>46-55</td>\n",
       "      <td>15k-55k</td>\n",
       "    </tr>\n",
       "    <tr>\n",
       "      <th>396</th>\n",
       "      <td>Male</td>\n",
       "      <td>1</td>\n",
       "      <td>46-55</td>\n",
       "      <td>15k-55k</td>\n",
       "    </tr>\n",
       "    <tr>\n",
       "      <th>397</th>\n",
       "      <td>Female</td>\n",
       "      <td>1</td>\n",
       "      <td>46-55</td>\n",
       "      <td>15k-55k</td>\n",
       "    </tr>\n",
       "    <tr>\n",
       "      <th>398</th>\n",
       "      <td>Male</td>\n",
       "      <td>0</td>\n",
       "      <td>36-45</td>\n",
       "      <td>15k-55k</td>\n",
       "    </tr>\n",
       "    <tr>\n",
       "      <th>399</th>\n",
       "      <td>Female</td>\n",
       "      <td>1</td>\n",
       "      <td>46-55</td>\n",
       "      <td>15k-55k</td>\n",
       "    </tr>\n",
       "  </tbody>\n",
       "</table>\n",
       "<p>400 rows × 4 columns</p>\n",
       "</div>"
      ],
      "text/plain": [
       "     Gender  Purchased Age Group Salary Group\n",
       "0      Male          0     18-25      15k-55k\n",
       "1      Male          0     26-35      15k-55k\n",
       "2    Female          0     26-35      15k-55k\n",
       "3    Female          0     26-35     55k-100k\n",
       "4      Male          0     18-25     55k-100k\n",
       "..      ...        ...       ...          ...\n",
       "395  Female          1     46-55      15k-55k\n",
       "396    Male          1     46-55      15k-55k\n",
       "397  Female          1     46-55      15k-55k\n",
       "398    Male          0     36-45      15k-55k\n",
       "399  Female          1     46-55      15k-55k\n",
       "\n",
       "[400 rows x 4 columns]"
      ]
     },
     "execution_count": 12,
     "metadata": {},
     "output_type": "execute_result"
    }
   ],
   "source": [
    "salary_conditions = [\n",
    "(ad_clicks.EstimatedSalary <= 55000) & (ad_clicks.EstimatedSalary >= 15000),\n",
    "(ad_clicks.EstimatedSalary <= 100000) & (ad_clicks.EstimatedSalary > 55000),\n",
    "(ad_clicks.EstimatedSalary <= 150000) & (ad_clicks.EstimatedSalary > 100000),\n",
    "]\n",
    "salary_values = [\"15k-55k\",\"55k-100k\",\"100k-150k\"]\n",
    "ad_clicks['Salary Group'] = np.select(salary_conditions, salary_values)\n",
    "del ad_clicks['Age']\n",
    "del ad_clicks['EstimatedSalary']\n",
    "ad_clicks"
   ]
  },
  {
   "cell_type": "markdown",
   "metadata": {},
   "source": [
    "One-hot Encoding Categorical Groupings"
   ]
  },
  {
   "cell_type": "code",
   "execution_count": 13,
   "metadata": {},
   "outputs": [
    {
     "name": "stdout",
     "output_type": "stream",
     "text": [
      "   Gender_Female  Gender_Male  Age Group_18-25  Age Group_26-35  \\\n",
      "0              0            1                1                0   \n",
      "1              0            1                0                1   \n",
      "2              1            0                0                1   \n",
      "3              1            0                0                1   \n",
      "4              0            1                1                0   \n",
      "\n",
      "   Age Group_36-45  Age Group_46-55  Age Group_55+  Salary Group_100k-150k  \\\n",
      "0                0                0              0                       0   \n",
      "1                0                0              0                       0   \n",
      "2                0                0              0                       0   \n",
      "3                0                0              0                       0   \n",
      "4                0                0              0                       0   \n",
      "\n",
      "   Salary Group_15k-55k  Salary Group_55k-100k  \n",
      "0                     1                      0  \n",
      "1                     1                      0  \n",
      "2                     1                      0  \n",
      "3                     0                      1  \n",
      "4                     0                      1  \n"
     ]
    }
   ],
   "source": [
    "# Select the numeric columns\n",
    "numeric_subset = ad_clicks.select_dtypes('number')\n",
    "categorical_subset = ad_clicks.select_dtypes('object')\n",
    "\n",
    "# One hot encoding\n",
    "categorical_subset = pd.get_dummies(categorical_subset[categorical_subset.columns])\n",
    "#drop Purchased column\n",
    "numeric_subset = numeric_subset.drop(\"Purchased\", axis=1)\n",
    "\n",
    "# Join the two dataframes using concat\n",
    "# Make sure to use axis = 1 to perform a column bind\n",
    "features = pd.concat([numeric_subset, categorical_subset], axis = 1)\n",
    "print (features.head())"
   ]
  },
  {
   "cell_type": "code",
   "execution_count": 14,
   "metadata": {},
   "outputs": [
    {
     "name": "stdout",
     "output_type": "stream",
     "text": [
      "Age Group_46-55           1.017583\n",
      "Age Group_55+             0.944927\n",
      "Salary Group_100k-150k    0.922855\n",
      "Gender_Male               0.165492\n",
      "Age Group_36-45          -0.054622\n",
      "Gender_Female            -0.165492\n",
      "Salary Group_15k-55k     -0.277735\n",
      "Salary Group_55k-100k    -0.446256\n",
      "Age Group_26-35          -0.573744\n",
      "Age Group_18-25          -1.032060\n",
      "dtype: float64\n"
     ]
    }
   ],
   "source": [
    "X_train, X_test, y_train, y_test = model_selection.train_test_split(features, new_series, train_size=0.70)\n",
    "scaler = preprocessing.StandardScaler()\n",
    "\n",
    "X_train = pd.DataFrame(scaler.fit_transform(X_train), columns=X_train.columns)\n",
    "cls.fit(X_train, y_train)\n",
    "coefs2 = pd.Series(cls.coef_[0], index=X_train.columns)\n",
    "print (coefs2.sort_values(ascending = False))\n"
   ]
  },
  {
   "cell_type": "code",
   "execution_count": 15,
   "metadata": {},
   "outputs": [
    {
     "data": {
      "image/png": "[encoded data removed]",
      "text/plain": [
       "<Figure size 432x288 with 1 Axes>"
      ]
     },
     "metadata": {},
     "output_type": "display_data"
    }
   ],
   "source": [
    "plt.subplot(1,1,1)\n",
    "(coefs2.sort_values(ascending = False)).plot(kind=\"bar\")\n",
    "plt.show()\n",
    "sns.set(style='whitegrid')"
   ]
  },
  {
   "cell_type": "code",
   "execution_count": null,
   "metadata": {},
   "outputs": [],
   "source": []
  },
  {
   "cell_type": "code",
   "execution_count": null,
   "metadata": {},
   "outputs": [],
   "source": []
  }
 ],
 "metadata": {
  "kernelspec": {
   "display_name": "Python 3",
   "language": "python",
   "name": "python3"
  },
  "language_info": {
   "codemirror_mode": {
    "name": "ipython",
    "version": 3
   },
   "file_extension": ".py",
   "mimetype": "text/x-python",
   "name": "python",
   "nbconvert_exporter": "python",
   "pygments_lexer": "ipython3",
   "version": "3.8.3"
  }
 },
 "nbformat": 4,
 "nbformat_minor": 4
}
